{
 "cells": [
  {
   "cell_type": "code",
   "execution_count": null,
   "metadata": {},
   "outputs": [],
   "source": [
    "import pandas as pd\n",
    "import matplotlib\n",
    "import matplotlib.pyplot as plt\n",
    "import matplotlib.dates as mdates\n",
    "import matplotlib.patches as patches\n",
    "import seaborn as sns\n",
    "import numpy as np\n",
    "import os\n",
    "import glob \n",
    "import re\n",
    "from collections import defaultdict\n",
    "from scipy import stats\n",
    "import subprocess\n",
    "from math import floor, ceil\n",
    "import requests\n",
    "\n",
    "plt.style.use('ggplot')"
   ]
  },
  {
   "cell_type": "code",
   "execution_count": null,
   "metadata": {},
   "outputs": [],
   "source": [
    "def interactiveCountWindows(N, WS, WA):\n",
    "    windowIndex = 0\n",
    "    windowCounter = 0\n",
    "    while (windowIndex+WS) <= N:\n",
    "        print(f'{windowCounter}: {windowIndex} - {windowIndex+WS}')\n",
    "        windowIndex += WA\n",
    "        windowCounter += 1\n",
    "    print(f'Counter = {windowCounter}')\n",
    "\n",
    "def countWindows(N, WS, WA):\n",
    "    return ((N-WS)//WA) + 1\n",
    "    \n",
    "# Regular GeneaLog\n",
    "# N: Total aggregate provenance tuples alive\n",
    "# WS: Window size\n",
    "# WA: Window Slide\n",
    "def countGLPointers(N, WS, WA):\n",
    "    return np.minimum(WS*countWindows(N, WS, WA), N) + 2 * countWindows(N, WS, WA)\n",
    "\n",
    "# GeneaLog with Lists\n",
    "def countGLLSPointers(N, WS, WA):\n",
    "    return (WS+1)*countWindows(N, WS, WA)\n",
    "\n",
    "def testRelation(WS, WA):\n",
    "    if WA <= WS:\n",
    "        return (WS+1)/(WA+2) \n",
    "    else:\n",
    "        return (WS + 1)/(WS+2)"
   ]
  },
  {
   "cell_type": "code",
   "execution_count": null,
   "metadata": {},
   "outputs": [],
   "source": [
    "N = 1e6\n",
    "WS = 100\n",
    "K = np.random.randint(1, N//WS)\n",
    "#K = WS\n",
    "assert K*WS <= N, 'K is too large!'\n",
    "WA = np.arange(floor(0.02*WS), 2*WS, 1)\n",
    "#K = np.random.randint(1, N//WS, size=WA.shape[0])\n",
    "fig, ax = plt.subplots()\n",
    "\n",
    "waws = WA/WS\n",
    "glValues = countGLPointers(N, WS, WA)\n",
    "normValue = np.max(glValues)\n",
    "gllsValues = countGLLSPointers(N, WS, WA)\n",
    "ax.plot(waws, glValues / normValue, label='GL Pointer')\n",
    "ax.plot(waws, gllsValues / normValue, label='GL List')\n",
    "ax.plot(waws, glValues*[testRelation(WS, iwa) for iwa in WA]/normValue, label='Analytical Approximation')\n",
    "ax.legend()\n",
    "ax.set_yscale('log')\n",
    "ax.set_xlabel('$WS/WA$')\n",
    "ax.set_ylabel('Relative Memory')\n",
    "ax.set_title('Memory Consumption Comparison')\n",
    "fig.savefig('memcmp.pdf')\n",
    "plt.show()"
   ]
  },
  {
   "cell_type": "code",
   "execution_count": null,
   "metadata": {},
   "outputs": [],
   "source": []
  },
  {
   "cell_type": "code",
   "execution_count": null,
   "metadata": {},
   "outputs": [],
   "source": [
    "dataframes = []\n",
    "N = 1e4\n",
    "tupleNumbers = [1e4, 1e5, 1e6]\n",
    "for N in tupleNumbers:\n",
    "    windowSizes = [floor(x) for x in np.logspace(0, 4, 5)]\n",
    "    for WS in windowSizes:\n",
    "        WA = np.linspace(floor(0.05*WS), WS, 5)\n",
    "        R = countGLLSPointers(N, WS, WA)/countGLPointers(N, WS, WA)\n",
    "        data = pd.DataFrame({'N': np.repeat(N, WA.shape[0]),\n",
    "                    'WS': np.repeat(WS, WA.shape[0]),\n",
    "                   'WA/WS': np.round(WA/WS, 3),\n",
    "                   'Ratio': R\n",
    "                  })\n",
    "        dataframes.append(data)\n",
    "df = pd.concat(dataframes, ignore_index=True)"
   ]
  },
  {
   "cell_type": "code",
   "execution_count": null,
   "metadata": {},
   "outputs": [],
   "source": [
    "g = sns.catplot(x='WA/WS', y='Ratio', hue='WS', row='N', data=df, kind='bar')\n",
    "g.fig.autofmt_xdate()\n",
    "# ax.set_title('Memory Ratio: $\\\\frac{Arrays}{PointersList}$')"
   ]
  },
  {
   "cell_type": "code",
   "execution_count": null,
   "metadata": {},
   "outputs": [],
   "source": [
    "REF_SIZE = 1 # tuple size, bytes\n",
    "N = 1000 # number of tuples\n",
    "m = N//10 # \n",
    "s = pd.Series(np.arange(floor(0.1*m), m, 5)) # Slide values\n",
    "\n",
    "def gl(m, s):\n",
    "    return ((N-m)/s) + N\n",
    "\n",
    "def lst(m, s):\n",
    "    return ((N-m)/s) * m\n",
    "\n",
    "x = s/m\n",
    "glVal = gl(m, s)\n",
    "lstVal = lst(m, s)\n",
    "fig, ax = plt.subplots()\n",
    "ax.plot(x, glVal)\n",
    "ax.plot(x, lstVal)\n",
    "ax.set(xlabel=r'Window Slide (%)', ylabel=r'Relative Memory Consumption')\n",
    "ax.legend(['Genealog', 'List'])\n",
    "ax.set_title(r'Memory Consumption of window pointers for $10^6$ in-memory tuples')\n"
   ]
  },
  {
   "cell_type": "code",
   "execution_count": null,
   "metadata": {},
   "outputs": [],
   "source": [
    "taskManagers = requests.get('http://localhost:9000/taskmanagers').json()\n",
    "ids = {tm['id']: tm['path'] for tm in taskManagers['taskmanagers']}\n",
    "ids"
   ]
  },
  {
   "cell_type": "code",
   "execution_count": null,
   "metadata": {},
   "outputs": [],
   "source": [
    "import re\n",
    "for key, path in ids.items():\n",
    "    print(requests.get(f'http://localhost:9000/taskmanagers/{key}/metrics?get=Status.JVM.Memory.NonHeap.Used').json())\n",
    "    print(re.match(r'.*\\/\\/([^\\/]+)\\/.*', path).group(1))\n",
    "    "
   ]
  },
  {
   "cell_type": "code",
   "execution_count": null,
   "metadata": {},
   "outputs": [],
   "source": []
  }
 ],
 "metadata": {
  "kernelspec": {
   "display_name": "Python 3",
   "language": "python",
   "name": "python3"
  },
  "language_info": {
   "codemirror_mode": {
    "name": "ipython",
    "version": 3
   },
   "file_extension": ".py",
   "mimetype": "text/x-python",
   "name": "python",
   "nbconvert_exporter": "python",
   "pygments_lexer": "ipython3",
   "version": "3.7.6"
  }
 },
 "nbformat": 4,
 "nbformat_minor": 2
}
