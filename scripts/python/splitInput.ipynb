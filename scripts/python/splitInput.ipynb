{
 "cells": [
  {
   "cell_type": "code",
   "execution_count": null,
   "metadata": {},
   "outputs": [],
   "source": [
    "import pandas as pd\n",
    "import matplotlib.pyplot as plt\n",
    "import numpy as np\n",
    "import hashlib\n",
    "plt.style.use('ggplot')\n",
    "\n",
    "\n",
    "def extendDataframe(df):\n",
    "    copy = df.copy()\n",
    "    copy['t'] += df['t'].max() + 1\n",
    "    return df.append(copy, ignore_index=True)\n",
    "\n",
    "def duplicate(df, times):\n",
    "    for i in range(times):\n",
    "        df = extendDataframe(df)\n",
    "    return df\n",
    "\n",
    "def describe(df, name):\n",
    "    nids = df['id'].nunique()\n",
    "    minId = df['id'].min()\n",
    "    maxId = df['id'].max()\n",
    "    print(f'- {name} has {df[\"id\"].nunique()} IDs [{minId} - {maxId}] and {df.size} tuples')\n",
    "\n",
    "    \n",
    "def plotHist(df, key, bins=10):\n",
    "    fig, ax = plt.subplots()\n",
    "    df[key].hist(ax=ax, bins=bins)\n",
    "    ax.set(title=f'{key} distribution', xlabel=key, ylabel='count')\n",
    "    plt.show()\n",
    "    \n",
    "def convertToFileID(key, parallelism):\n",
    "    s = str(key)\n",
    "    return int(hashlib.sha1(s.encode('utf-8')).hexdigest(), 16) % parallelism\n",
    "\n",
    "DATA_DIR='../../data/input'\n",
    "FILENAME = 'h1_server'\n",
    "EXTENSION = 'txt'\n",
    "\n",
    "# SG: timestamp, id, value\n",
    "# LR: type, time, id, ...\n",
    "TIMESTAMP_INDEX = 1\n",
    "ID_INDEX = 2"
   ]
  },
  {
   "cell_type": "code",
   "execution_count": null,
   "metadata": {},
   "outputs": [],
   "source": [
    "df = pd.read_csv(f'{DATA_DIR}/{FILENAME}.{EXTENSION}', header=None)\n",
    "df = df.rename(columns = {df.columns[TIMESTAMP_INDEX]: 't', df.columns[ID_INDEX]: 'id'})"
   ]
  },
  {
   "cell_type": "code",
   "execution_count": null,
   "metadata": {},
   "outputs": [],
   "source": [
    "plotHist(df, 'id')"
   ]
  },
  {
   "cell_type": "code",
   "execution_count": null,
   "metadata": {},
   "outputs": [],
   "source": [
    "# Split configuration\n",
    "DUPLICATIONS = 0\n",
    "DRY_RUN = False\n",
    "PARALLELISMS = [1, 2, 4, 8, 16]"
   ]
  },
  {
   "cell_type": "code",
   "execution_count": null,
   "metadata": {},
   "outputs": [],
   "source": [
    "describe(df,'Initial Dataframe')\n",
    "for parallelism in PARALLELISMS:\n",
    "    assert parallelism >= 1\n",
    "    assert DUPLICATIONS >= 0\n",
    "    for i in range(parallelism):\n",
    "        print(f'> Processing parallelism {parallelism}')\n",
    "        df['file'] = df['id'].apply(convertToFileID, parallelism=parallelism)\n",
    "        plotHist(df, 'file', bins=parallelism)\n",
    "        split = df[df['file'] == i].drop(columns=['file'])\n",
    "        print(split.head(3))\n",
    "        name=f'{FILENAME}_{parallelism}_{i}'\n",
    "        describe(split, name)\n",
    "        split = duplicate(split, DUPLICATIONS)\n",
    "        if not DRY_RUN:\n",
    "            split.to_csv(f'{DATA_DIR}/{name}.txt', header=False, index=False)\n",
    "    print('> Done!')\n",
    "print('> All done!')"
   ]
  },
  {
   "cell_type": "code",
   "execution_count": null,
   "metadata": {},
   "outputs": [],
   "source": []
  },
  {
   "cell_type": "code",
   "execution_count": null,
   "metadata": {},
   "outputs": [],
   "source": []
  }
 ],
 "metadata": {
  "kernelspec": {
   "display_name": "Python 3",
   "language": "python",
   "name": "python3"
  },
  "language_info": {
   "codemirror_mode": {
    "name": "ipython",
    "version": 3
   },
   "file_extension": ".py",
   "mimetype": "text/x-python",
   "name": "python",
   "nbconvert_exporter": "python",
   "pygments_lexer": "ipython3",
   "version": "3.7.6"
  }
 },
 "nbformat": 4,
 "nbformat_minor": 2
}
